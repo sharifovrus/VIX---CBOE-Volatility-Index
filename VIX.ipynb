{
  "nbformat": 4,
  "nbformat_minor": 0,
  "metadata": {
    "colab": {
      "name": "VIX",
      "provenance": [],
      "collapsed_sections": []
    },
    "kernelspec": {
      "name": "python3",
      "display_name": "Python 3"
    }
  },
  "cells": [
    {
      "cell_type": "code",
      "metadata": {
        "id": "_b2UGfmElV2C",
        "colab_type": "code",
        "colab": {}
      },
      "source": [
        "# import libraries\n",
        "import numpy as np\n",
        "import pandas as pd\n",
        "from matplotlib import pyplot as plt"
      ],
      "execution_count": 0,
      "outputs": []
    },
    {
      "cell_type": "code",
      "metadata": {
        "id": "nlrvpP6yb-1E",
        "colab_type": "code",
        "colab": {}
      },
      "source": [
        "url = 'https://raw.githubusercontent.com/sharifovrus/VIX---CBOE-Volatility-Index/master/vix-daily_csv.csv'\n",
        "data = pd.read_csv(url)"
      ],
      "execution_count": 0,
      "outputs": []
    },
    {
      "cell_type": "code",
      "metadata": {
        "id": "2oltIEeccqNd",
        "colab_type": "code",
        "outputId": "35443803-810a-4d1a-c3bf-6c146470f753",
        "colab": {
          "base_uri": "https://localhost:8080/",
          "height": 206
        }
      },
      "source": [
        "data.head()"
      ],
      "execution_count": 3,
      "outputs": [
        {
          "output_type": "execute_result",
          "data": {
            "text/html": [
              "<div>\n",
              "<style scoped>\n",
              "    .dataframe tbody tr th:only-of-type {\n",
              "        vertical-align: middle;\n",
              "    }\n",
              "\n",
              "    .dataframe tbody tr th {\n",
              "        vertical-align: top;\n",
              "    }\n",
              "\n",
              "    .dataframe thead th {\n",
              "        text-align: right;\n",
              "    }\n",
              "</style>\n",
              "<table border=\"1\" class=\"dataframe\">\n",
              "  <thead>\n",
              "    <tr style=\"text-align: right;\">\n",
              "      <th></th>\n",
              "      <th>Date</th>\n",
              "      <th>VIX Open</th>\n",
              "      <th>VIX High</th>\n",
              "      <th>VIX Low</th>\n",
              "      <th>VIX Close</th>\n",
              "    </tr>\n",
              "  </thead>\n",
              "  <tbody>\n",
              "    <tr>\n",
              "      <th>0</th>\n",
              "      <td>2004-01-02</td>\n",
              "      <td>17.96</td>\n",
              "      <td>18.68</td>\n",
              "      <td>17.54</td>\n",
              "      <td>18.22</td>\n",
              "    </tr>\n",
              "    <tr>\n",
              "      <th>1</th>\n",
              "      <td>2004-01-05</td>\n",
              "      <td>18.45</td>\n",
              "      <td>18.49</td>\n",
              "      <td>17.44</td>\n",
              "      <td>17.49</td>\n",
              "    </tr>\n",
              "    <tr>\n",
              "      <th>2</th>\n",
              "      <td>2004-01-06</td>\n",
              "      <td>17.66</td>\n",
              "      <td>17.67</td>\n",
              "      <td>16.19</td>\n",
              "      <td>16.73</td>\n",
              "    </tr>\n",
              "    <tr>\n",
              "      <th>3</th>\n",
              "      <td>2004-01-07</td>\n",
              "      <td>16.72</td>\n",
              "      <td>16.75</td>\n",
              "      <td>15.50</td>\n",
              "      <td>15.50</td>\n",
              "    </tr>\n",
              "    <tr>\n",
              "      <th>4</th>\n",
              "      <td>2004-01-08</td>\n",
              "      <td>15.42</td>\n",
              "      <td>15.68</td>\n",
              "      <td>15.32</td>\n",
              "      <td>15.61</td>\n",
              "    </tr>\n",
              "  </tbody>\n",
              "</table>\n",
              "</div>"
            ],
            "text/plain": [
              "         Date  VIX Open  VIX High  VIX Low  VIX Close\n",
              "0  2004-01-02     17.96     18.68    17.54      18.22\n",
              "1  2004-01-05     18.45     18.49    17.44      17.49\n",
              "2  2004-01-06     17.66     17.67    16.19      16.73\n",
              "3  2004-01-07     16.72     16.75    15.50      15.50\n",
              "4  2004-01-08     15.42     15.68    15.32      15.61"
            ]
          },
          "metadata": {
            "tags": []
          },
          "execution_count": 3
        }
      ]
    },
    {
      "cell_type": "code",
      "metadata": {
        "id": "oUXCz-pzdAc2",
        "colab_type": "code",
        "outputId": "86e75aec-b08a-4db6-b91e-9f3833004cdc",
        "colab": {
          "base_uri": "https://localhost:8080/",
          "height": 126
        }
      },
      "source": [
        "data.isnull().sum()"
      ],
      "execution_count": 4,
      "outputs": [
        {
          "output_type": "execute_result",
          "data": {
            "text/plain": [
              "Date         0\n",
              "VIX Open     0\n",
              "VIX High     0\n",
              "VIX Low      0\n",
              "VIX Close    0\n",
              "dtype: int64"
            ]
          },
          "metadata": {
            "tags": []
          },
          "execution_count": 4
        }
      ]
    },
    {
      "cell_type": "code",
      "metadata": {
        "id": "hWaHc_sed-Ah",
        "colab_type": "code",
        "outputId": "79318b9e-7dfc-475f-f7e4-9de65bc78219",
        "colab": {
          "base_uri": "https://localhost:8080/",
          "height": 206
        }
      },
      "source": [
        "data.tail()"
      ],
      "execution_count": 5,
      "outputs": [
        {
          "output_type": "execute_result",
          "data": {
            "text/html": [
              "<div>\n",
              "<style scoped>\n",
              "    .dataframe tbody tr th:only-of-type {\n",
              "        vertical-align: middle;\n",
              "    }\n",
              "\n",
              "    .dataframe tbody tr th {\n",
              "        vertical-align: top;\n",
              "    }\n",
              "\n",
              "    .dataframe thead th {\n",
              "        text-align: right;\n",
              "    }\n",
              "</style>\n",
              "<table border=\"1\" class=\"dataframe\">\n",
              "  <thead>\n",
              "    <tr style=\"text-align: right;\">\n",
              "      <th></th>\n",
              "      <th>Date</th>\n",
              "      <th>VIX Open</th>\n",
              "      <th>VIX High</th>\n",
              "      <th>VIX Low</th>\n",
              "      <th>VIX Close</th>\n",
              "    </tr>\n",
              "  </thead>\n",
              "  <tbody>\n",
              "    <tr>\n",
              "      <th>4032</th>\n",
              "      <td>2020-01-09</td>\n",
              "      <td>12.95</td>\n",
              "      <td>13.24</td>\n",
              "      <td>12.53</td>\n",
              "      <td>12.54</td>\n",
              "    </tr>\n",
              "    <tr>\n",
              "      <th>4033</th>\n",
              "      <td>2020-01-10</td>\n",
              "      <td>12.42</td>\n",
              "      <td>12.87</td>\n",
              "      <td>12.09</td>\n",
              "      <td>12.56</td>\n",
              "    </tr>\n",
              "    <tr>\n",
              "      <th>4034</th>\n",
              "      <td>2020-01-13</td>\n",
              "      <td>12.84</td>\n",
              "      <td>13.09</td>\n",
              "      <td>12.32</td>\n",
              "      <td>12.32</td>\n",
              "    </tr>\n",
              "    <tr>\n",
              "      <th>4035</th>\n",
              "      <td>2020-01-14</td>\n",
              "      <td>12.72</td>\n",
              "      <td>13.82</td>\n",
              "      <td>12.05</td>\n",
              "      <td>12.39</td>\n",
              "    </tr>\n",
              "    <tr>\n",
              "      <th>4036</th>\n",
              "      <td>2020-01-15</td>\n",
              "      <td>12.79</td>\n",
              "      <td>12.83</td>\n",
              "      <td>11.95</td>\n",
              "      <td>12.42</td>\n",
              "    </tr>\n",
              "  </tbody>\n",
              "</table>\n",
              "</div>"
            ],
            "text/plain": [
              "            Date  VIX Open  VIX High  VIX Low  VIX Close\n",
              "4032  2020-01-09     12.95     13.24    12.53      12.54\n",
              "4033  2020-01-10     12.42     12.87    12.09      12.56\n",
              "4034  2020-01-13     12.84     13.09    12.32      12.32\n",
              "4035  2020-01-14     12.72     13.82    12.05      12.39\n",
              "4036  2020-01-15     12.79     12.83    11.95      12.42"
            ]
          },
          "metadata": {
            "tags": []
          },
          "execution_count": 5
        }
      ]
    },
    {
      "cell_type": "code",
      "metadata": {
        "id": "V4kLrz3taFgT",
        "colab_type": "code",
        "outputId": "2c632dd1-6f90-402f-9323-3460efa525c6",
        "colab": {
          "base_uri": "https://localhost:8080/",
          "height": 424
        }
      },
      "source": [
        "data = data.drop(['Date', 'VIX Open', 'VIX High', 'VIX Low'], axis=1)\n",
        "data"
      ],
      "execution_count": 6,
      "outputs": [
        {
          "output_type": "execute_result",
          "data": {
            "text/html": [
              "<div>\n",
              "<style scoped>\n",
              "    .dataframe tbody tr th:only-of-type {\n",
              "        vertical-align: middle;\n",
              "    }\n",
              "\n",
              "    .dataframe tbody tr th {\n",
              "        vertical-align: top;\n",
              "    }\n",
              "\n",
              "    .dataframe thead th {\n",
              "        text-align: right;\n",
              "    }\n",
              "</style>\n",
              "<table border=\"1\" class=\"dataframe\">\n",
              "  <thead>\n",
              "    <tr style=\"text-align: right;\">\n",
              "      <th></th>\n",
              "      <th>VIX Close</th>\n",
              "    </tr>\n",
              "  </thead>\n",
              "  <tbody>\n",
              "    <tr>\n",
              "      <th>0</th>\n",
              "      <td>18.22</td>\n",
              "    </tr>\n",
              "    <tr>\n",
              "      <th>1</th>\n",
              "      <td>17.49</td>\n",
              "    </tr>\n",
              "    <tr>\n",
              "      <th>2</th>\n",
              "      <td>16.73</td>\n",
              "    </tr>\n",
              "    <tr>\n",
              "      <th>3</th>\n",
              "      <td>15.50</td>\n",
              "    </tr>\n",
              "    <tr>\n",
              "      <th>4</th>\n",
              "      <td>15.61</td>\n",
              "    </tr>\n",
              "    <tr>\n",
              "      <th>...</th>\n",
              "      <td>...</td>\n",
              "    </tr>\n",
              "    <tr>\n",
              "      <th>4032</th>\n",
              "      <td>12.54</td>\n",
              "    </tr>\n",
              "    <tr>\n",
              "      <th>4033</th>\n",
              "      <td>12.56</td>\n",
              "    </tr>\n",
              "    <tr>\n",
              "      <th>4034</th>\n",
              "      <td>12.32</td>\n",
              "    </tr>\n",
              "    <tr>\n",
              "      <th>4035</th>\n",
              "      <td>12.39</td>\n",
              "    </tr>\n",
              "    <tr>\n",
              "      <th>4036</th>\n",
              "      <td>12.42</td>\n",
              "    </tr>\n",
              "  </tbody>\n",
              "</table>\n",
              "<p>4037 rows × 1 columns</p>\n",
              "</div>"
            ],
            "text/plain": [
              "      VIX Close\n",
              "0         18.22\n",
              "1         17.49\n",
              "2         16.73\n",
              "3         15.50\n",
              "4         15.61\n",
              "...         ...\n",
              "4032      12.54\n",
              "4033      12.56\n",
              "4034      12.32\n",
              "4035      12.39\n",
              "4036      12.42\n",
              "\n",
              "[4037 rows x 1 columns]"
            ]
          },
          "metadata": {
            "tags": []
          },
          "execution_count": 6
        }
      ]
    },
    {
      "cell_type": "code",
      "metadata": {
        "id": "TSZrf5QsKyC2",
        "colab_type": "code",
        "outputId": "97601f65-fe79-4999-e829-fccba9abe1c8",
        "colab": {
          "base_uri": "https://localhost:8080/",
          "height": 336
        }
      },
      "source": [
        "plt.figure(figsize=(15,5))\n",
        "plt.plot(data.index, data)\n",
        "plt.title('VIX Price')\n",
        "plt.ylabel('Price');\n",
        "plt.show()\n"
      ],
      "execution_count": 7,
      "outputs": [
        {
          "output_type": "display_data",
          "data": {
            "image/png": "[encoded data removed]",
            "text/plain": [
              "<Figure size 1080x360 with 1 Axes>"
            ]
          },
          "metadata": {
            "tags": []
          }
        }
      ]
    },
    {
      "cell_type": "code",
      "metadata": {
        "id": "wclgommIMZcc",
        "colab_type": "code",
        "colab": {}
      },
      "source": [
        "# normalize features - \n",
        "from sklearn.preprocessing import MinMaxScaler\n",
        "scaler = MinMaxScaler(feature_range=(0, 1))\n",
        "data = scaler.fit_transform(data)"
      ],
      "execution_count": 0,
      "outputs": []
    },
    {
      "cell_type": "code",
      "metadata": {
        "id": "HSWbljGIUrvk",
        "colab_type": "code",
        "outputId": "4a91a84e-4c7d-4a1e-d417-1cbe8d25d59c",
        "colab": {
          "base_uri": "https://localhost:8080/",
          "height": 35
        }
      },
      "source": [
        "# split into train and test sets\n",
        "data = data.astype('float32')\n",
        "train_size = int(len(data) * 0.7)\n",
        "test_size = len(data) - train_size\n",
        "train = data[0:train_size,:]\n",
        "test = data[train_size:len(data),:]\n",
        "print(len(train), len(test))"
      ],
      "execution_count": 9,
      "outputs": [
        {
          "output_type": "stream",
          "text": [
            "2825 1212\n"
          ],
          "name": "stdout"
        }
      ]
    },
    {
      "cell_type": "code",
      "metadata": {
        "id": "9yZ1AT6lsuL3",
        "colab_type": "code",
        "colab": {}
      },
      "source": [
        "def new_data(data, step_size=1):\n",
        "    X, Y = [], []\n",
        "    for i in range(len(data)-step_size-1):\n",
        "        X.append(data[i:(i+step_size),0])\n",
        "        Y.append(data[i + step_size,0])\n",
        "    return np.array(X), np.array(Y)"
      ],
      "execution_count": 0,
      "outputs": []
    },
    {
      "cell_type": "code",
      "metadata": {
        "id": "rZcLNnbFwh0-",
        "colab_type": "code",
        "colab": {}
      },
      "source": [
        "step_size = 10\n",
        "X_train, Y_train = new_data(train, step_size)\n",
        "X_test, Y_test = new_data(test, step_size)"
      ],
      "execution_count": 0,
      "outputs": []
    },
    {
      "cell_type": "code",
      "metadata": {
        "id": "punbt5CQwyWr",
        "colab_type": "code",
        "colab": {}
      },
      "source": [
        "# reshape input to be [samples, time steps, features]\n",
        "X_train = np.reshape(X_train, (X_train.shape[0], 1, X_train.shape[1]))\n",
        "X_test = np.reshape(X_test, (X_test.shape[0], 1, X_test.shape[1]))"
      ],
      "execution_count": 0,
      "outputs": []
    },
    {
      "cell_type": "code",
      "metadata": {
        "id": "syIcbBjBRSsR",
        "colab_type": "code",
        "outputId": "05d5c877-d1aa-49d5-c717-7f393801ba3e",
        "colab": {
          "base_uri": "https://localhost:8080/",
          "height": 83
        }
      },
      "source": [
        "from keras.models import Sequential\n",
        "from keras.layers import Dense\n",
        "from keras.layers import LSTM\n",
        "from keras.layers import Dropout"
      ],
      "execution_count": 13,
      "outputs": [
        {
          "output_type": "stream",
          "text": [
            "Using TensorFlow backend.\n"
          ],
          "name": "stderr"
        },
        {
          "output_type": "display_data",
          "data": {
            "text/html": [
              "<p style=\"color: red;\">\n",
              "The default version of TensorFlow in Colab will soon switch to TensorFlow 2.x.<br>\n",
              "We recommend you <a href=\"https://www.tensorflow.org/guide/migrate\" target=\"_blank\">upgrade</a> now \n",
              "or ensure your notebook will continue to use TensorFlow 1.x via the <code>%tensorflow_version 1.x</code> magic:\n",
              "<a href=\"https://colab.research.google.com/notebooks/tensorflow_version.ipynb\" target=\"_blank\">more info</a>.</p>\n"
            ],
            "text/plain": [
              "<IPython.core.display.HTML object>"
            ]
          },
          "metadata": {
            "tags": []
          }
        }
      ]
    },
    {
      "cell_type": "code",
      "metadata": {
        "id": "LNH8MTHQRhf2",
        "colab_type": "code",
        "outputId": "543ac6ab-0614-4158-ee94-09815c32384d",
        "colab": {
          "base_uri": "https://localhost:8080/",
          "height": 527
        }
      },
      "source": [
        "# Define the LSTM model\n",
        "model = Sequential()\n",
        "model.add(LSTM(8, input_shape=(1, step_size)))\n",
        "model.add(Dropout(0.5))\n",
        "model.add(Dense(1))\n",
        "model.compile(loss=\"mse\", optimizer=\"adam\")\n",
        "model.summary()"
      ],
      "execution_count": 14,
      "outputs": [
        {
          "output_type": "stream",
          "text": [
            "WARNING:tensorflow:From /usr/local/lib/python3.6/dist-packages/keras/backend/tensorflow_backend.py:66: The name tf.get_default_graph is deprecated. Please use tf.compat.v1.get_default_graph instead.\n",
            "\n",
            "WARNING:tensorflow:From /usr/local/lib/python3.6/dist-packages/keras/backend/tensorflow_backend.py:541: The name tf.placeholder is deprecated. Please use tf.compat.v1.placeholder instead.\n",
            "\n",
            "WARNING:tensorflow:From /usr/local/lib/python3.6/dist-packages/keras/backend/tensorflow_backend.py:4432: The name tf.random_uniform is deprecated. Please use tf.random.uniform instead.\n",
            "\n",
            "WARNING:tensorflow:From /usr/local/lib/python3.6/dist-packages/keras/backend/tensorflow_backend.py:148: The name tf.placeholder_with_default is deprecated. Please use tf.compat.v1.placeholder_with_default instead.\n",
            "\n",
            "WARNING:tensorflow:From /usr/local/lib/python3.6/dist-packages/keras/backend/tensorflow_backend.py:3733: calling dropout (from tensorflow.python.ops.nn_ops) with keep_prob is deprecated and will be removed in a future version.\n",
            "Instructions for updating:\n",
            "Please use `rate` instead of `keep_prob`. Rate should be set to `rate = 1 - keep_prob`.\n",
            "WARNING:tensorflow:From /usr/local/lib/python3.6/dist-packages/keras/optimizers.py:793: The name tf.train.Optimizer is deprecated. Please use tf.compat.v1.train.Optimizer instead.\n",
            "\n",
            "Model: \"sequential_1\"\n",
            "_________________________________________________________________\n",
            "Layer (type)                 Output Shape              Param #   \n",
            "=================================================================\n",
            "lstm_1 (LSTM)                (None, 8)                 608       \n",
            "_________________________________________________________________\n",
            "dropout_1 (Dropout)          (None, 8)                 0         \n",
            "_________________________________________________________________\n",
            "dense_1 (Dense)              (None, 1)                 9         \n",
            "=================================================================\n",
            "Total params: 617\n",
            "Trainable params: 617\n",
            "Non-trainable params: 0\n",
            "_________________________________________________________________\n"
          ],
          "name": "stdout"
        }
      ]
    },
    {
      "cell_type": "code",
      "metadata": {
        "id": "W5SfMnVdR3u9",
        "colab_type": "code",
        "outputId": "dbeee3df-10aa-4d09-eee3-86a4a54584ef",
        "colab": {
          "base_uri": "https://localhost:8080/",
          "height": 1000
        }
      },
      "source": [
        "model.fit(X_train, Y_train, epochs=120, batch_size=64, verbose=2)"
      ],
      "execution_count": 15,
      "outputs": [
        {
          "output_type": "stream",
          "text": [
            "WARNING:tensorflow:From /usr/local/lib/python3.6/dist-packages/tensorflow_core/python/ops/math_grad.py:1424: where (from tensorflow.python.ops.array_ops) is deprecated and will be removed in a future version.\n",
            "Instructions for updating:\n",
            "Use tf.where in 2.0, which has the same broadcast rule as np.where\n",
            "WARNING:tensorflow:From /usr/local/lib/python3.6/dist-packages/keras/backend/tensorflow_backend.py:1033: The name tf.assign_add is deprecated. Please use tf.compat.v1.assign_add instead.\n",
            "\n",
            "WARNING:tensorflow:From /usr/local/lib/python3.6/dist-packages/keras/backend/tensorflow_backend.py:1020: The name tf.assign is deprecated. Please use tf.compat.v1.assign instead.\n",
            "\n",
            "WARNING:tensorflow:From /usr/local/lib/python3.6/dist-packages/keras/backend/tensorflow_backend.py:3005: The name tf.Session is deprecated. Please use tf.compat.v1.Session instead.\n",
            "\n",
            "Epoch 1/120\n",
            "WARNING:tensorflow:From /usr/local/lib/python3.6/dist-packages/keras/backend/tensorflow_backend.py:190: The name tf.get_default_session is deprecated. Please use tf.compat.v1.get_default_session instead.\n",
            "\n",
            "WARNING:tensorflow:From /usr/local/lib/python3.6/dist-packages/keras/backend/tensorflow_backend.py:197: The name tf.ConfigProto is deprecated. Please use tf.compat.v1.ConfigProto instead.\n",
            "\n",
            "WARNING:tensorflow:From /usr/local/lib/python3.6/dist-packages/keras/backend/tensorflow_backend.py:207: The name tf.global_variables is deprecated. Please use tf.compat.v1.global_variables instead.\n",
            "\n",
            "WARNING:tensorflow:From /usr/local/lib/python3.6/dist-packages/keras/backend/tensorflow_backend.py:216: The name tf.is_variable_initialized is deprecated. Please use tf.compat.v1.is_variable_initialized instead.\n",
            "\n",
            "WARNING:tensorflow:From /usr/local/lib/python3.6/dist-packages/keras/backend/tensorflow_backend.py:223: The name tf.variables_initializer is deprecated. Please use tf.compat.v1.variables_initializer instead.\n",
            "\n",
            " - 1s - loss: 0.0122\n",
            "Epoch 2/120\n",
            " - 0s - loss: 0.0079\n",
            "Epoch 3/120\n",
            " - 0s - loss: 0.0059\n",
            "Epoch 4/120\n",
            " - 0s - loss: 0.0051\n",
            "Epoch 5/120\n",
            " - 0s - loss: 0.0043\n",
            "Epoch 6/120\n",
            " - 0s - loss: 0.0040\n",
            "Epoch 7/120\n",
            " - 0s - loss: 0.0037\n",
            "Epoch 8/120\n",
            " - 0s - loss: 0.0037\n",
            "Epoch 9/120\n",
            " - 0s - loss: 0.0037\n",
            "Epoch 10/120\n",
            " - 0s - loss: 0.0041\n",
            "Epoch 11/120\n",
            " - 0s - loss: 0.0033\n",
            "Epoch 12/120\n",
            " - 0s - loss: 0.0036\n",
            "Epoch 13/120\n",
            " - 0s - loss: 0.0032\n",
            "Epoch 14/120\n",
            " - 0s - loss: 0.0032\n",
            "Epoch 15/120\n",
            " - 0s - loss: 0.0030\n",
            "Epoch 16/120\n",
            " - 0s - loss: 0.0027\n",
            "Epoch 17/120\n",
            " - 0s - loss: 0.0033\n",
            "Epoch 18/120\n",
            " - 0s - loss: 0.0030\n",
            "Epoch 19/120\n",
            " - 0s - loss: 0.0028\n",
            "Epoch 20/120\n",
            " - 0s - loss: 0.0028\n",
            "Epoch 21/120\n",
            " - 0s - loss: 0.0029\n",
            "Epoch 22/120\n",
            " - 0s - loss: 0.0031\n",
            "Epoch 23/120\n",
            " - 0s - loss: 0.0027\n",
            "Epoch 24/120\n",
            " - 0s - loss: 0.0029\n",
            "Epoch 25/120\n",
            " - 0s - loss: 0.0026\n",
            "Epoch 26/120\n",
            " - 0s - loss: 0.0031\n",
            "Epoch 27/120\n",
            " - 0s - loss: 0.0028\n",
            "Epoch 28/120\n",
            " - 0s - loss: 0.0031\n",
            "Epoch 29/120\n",
            " - 0s - loss: 0.0032\n",
            "Epoch 30/120\n",
            " - 0s - loss: 0.0030\n",
            "Epoch 31/120\n",
            " - 0s - loss: 0.0027\n",
            "Epoch 32/120\n",
            " - 0s - loss: 0.0026\n",
            "Epoch 33/120\n",
            " - 0s - loss: 0.0031\n",
            "Epoch 34/120\n",
            " - 0s - loss: 0.0029\n",
            "Epoch 35/120\n",
            " - 0s - loss: 0.0027\n",
            "Epoch 36/120\n",
            " - 0s - loss: 0.0025\n",
            "Epoch 37/120\n",
            " - 0s - loss: 0.0027\n",
            "Epoch 38/120\n",
            " - 0s - loss: 0.0027\n",
            "Epoch 39/120\n",
            " - 0s - loss: 0.0027\n",
            "Epoch 40/120\n",
            " - 0s - loss: 0.0030\n",
            "Epoch 41/120\n",
            " - 0s - loss: 0.0027\n",
            "Epoch 42/120\n",
            " - 0s - loss: 0.0029\n",
            "Epoch 43/120\n",
            " - 0s - loss: 0.0029\n",
            "Epoch 44/120\n",
            " - 0s - loss: 0.0028\n",
            "Epoch 45/120\n",
            " - 0s - loss: 0.0026\n",
            "Epoch 46/120\n",
            " - 0s - loss: 0.0027\n",
            "Epoch 47/120\n",
            " - 0s - loss: 0.0028\n",
            "Epoch 48/120\n",
            " - 0s - loss: 0.0027\n",
            "Epoch 49/120\n",
            " - 0s - loss: 0.0030\n",
            "Epoch 50/120\n",
            " - 0s - loss: 0.0028\n",
            "Epoch 51/120\n",
            " - 0s - loss: 0.0026\n",
            "Epoch 52/120\n",
            " - 0s - loss: 0.0028\n",
            "Epoch 53/120\n",
            " - 0s - loss: 0.0027\n",
            "Epoch 54/120\n",
            " - 0s - loss: 0.0027\n",
            "Epoch 55/120\n",
            " - 0s - loss: 0.0028\n",
            "Epoch 56/120\n",
            " - 0s - loss: 0.0028\n",
            "Epoch 57/120\n",
            " - 0s - loss: 0.0027\n",
            "Epoch 58/120\n",
            " - 0s - loss: 0.0027\n",
            "Epoch 59/120\n",
            " - 0s - loss: 0.0029\n",
            "Epoch 60/120\n",
            " - 0s - loss: 0.0027\n",
            "Epoch 61/120\n",
            " - 0s - loss: 0.0030\n",
            "Epoch 62/120\n",
            " - 0s - loss: 0.0025\n",
            "Epoch 63/120\n",
            " - 0s - loss: 0.0027\n",
            "Epoch 64/120\n",
            " - 0s - loss: 0.0030\n",
            "Epoch 65/120\n",
            " - 0s - loss: 0.0029\n",
            "Epoch 66/120\n",
            " - 0s - loss: 0.0026\n",
            "Epoch 67/120\n",
            " - 0s - loss: 0.0028\n",
            "Epoch 68/120\n",
            " - 0s - loss: 0.0026\n",
            "Epoch 69/120\n",
            " - 0s - loss: 0.0023\n",
            "Epoch 70/120\n",
            " - 0s - loss: 0.0024\n",
            "Epoch 71/120\n",
            " - 0s - loss: 0.0028\n",
            "Epoch 72/120\n",
            " - 0s - loss: 0.0030\n",
            "Epoch 73/120\n",
            " - 0s - loss: 0.0026\n",
            "Epoch 74/120\n",
            " - 0s - loss: 0.0025\n",
            "Epoch 75/120\n",
            " - 0s - loss: 0.0024\n",
            "Epoch 76/120\n",
            " - 0s - loss: 0.0027\n",
            "Epoch 77/120\n",
            " - 0s - loss: 0.0028\n",
            "Epoch 78/120\n",
            " - 0s - loss: 0.0025\n",
            "Epoch 79/120\n",
            " - 0s - loss: 0.0027\n",
            "Epoch 80/120\n",
            " - 0s - loss: 0.0029\n",
            "Epoch 81/120\n",
            " - 0s - loss: 0.0027\n",
            "Epoch 82/120\n",
            " - 0s - loss: 0.0027\n",
            "Epoch 83/120\n",
            " - 0s - loss: 0.0025\n",
            "Epoch 84/120\n",
            " - 0s - loss: 0.0028\n",
            "Epoch 85/120\n",
            " - 0s - loss: 0.0026\n",
            "Epoch 86/120\n",
            " - 0s - loss: 0.0028\n",
            "Epoch 87/120\n",
            " - 0s - loss: 0.0030\n",
            "Epoch 88/120\n",
            " - 0s - loss: 0.0025\n",
            "Epoch 89/120\n",
            " - 0s - loss: 0.0024\n",
            "Epoch 90/120\n",
            " - 0s - loss: 0.0026\n",
            "Epoch 91/120\n",
            " - 0s - loss: 0.0026\n",
            "Epoch 92/120\n",
            " - 0s - loss: 0.0025\n",
            "Epoch 93/120\n",
            " - 0s - loss: 0.0026\n",
            "Epoch 94/120\n",
            " - 0s - loss: 0.0025\n",
            "Epoch 95/120\n",
            " - 0s - loss: 0.0031\n",
            "Epoch 96/120\n",
            " - 0s - loss: 0.0025\n",
            "Epoch 97/120\n",
            " - 0s - loss: 0.0027\n",
            "Epoch 98/120\n",
            " - 0s - loss: 0.0022\n",
            "Epoch 99/120\n",
            " - 0s - loss: 0.0025\n",
            "Epoch 100/120\n",
            " - 0s - loss: 0.0027\n",
            "Epoch 101/120\n",
            " - 0s - loss: 0.0027\n",
            "Epoch 102/120\n",
            " - 0s - loss: 0.0028\n",
            "Epoch 103/120\n",
            " - 0s - loss: 0.0028\n",
            "Epoch 104/120\n",
            " - 0s - loss: 0.0029\n",
            "Epoch 105/120\n",
            " - 0s - loss: 0.0026\n",
            "Epoch 106/120\n",
            " - 0s - loss: 0.0027\n",
            "Epoch 107/120\n",
            " - 0s - loss: 0.0025\n",
            "Epoch 108/120\n",
            " - 0s - loss: 0.0027\n",
            "Epoch 109/120\n",
            " - 0s - loss: 0.0024\n",
            "Epoch 110/120\n",
            " - 0s - loss: 0.0027\n",
            "Epoch 111/120\n",
            " - 0s - loss: 0.0025\n",
            "Epoch 112/120\n",
            " - 0s - loss: 0.0025\n",
            "Epoch 113/120\n",
            " - 0s - loss: 0.0025\n",
            "Epoch 114/120\n",
            " - 0s - loss: 0.0030\n",
            "Epoch 115/120\n",
            " - 0s - loss: 0.0029\n",
            "Epoch 116/120\n",
            " - 0s - loss: 0.0027\n",
            "Epoch 117/120\n",
            " - 0s - loss: 0.0028\n",
            "Epoch 118/120\n",
            " - 0s - loss: 0.0026\n",
            "Epoch 119/120\n",
            " - 0s - loss: 0.0031\n",
            "Epoch 120/120\n",
            " - 0s - loss: 0.0026\n"
          ],
          "name": "stdout"
        },
        {
          "output_type": "execute_result",
          "data": {
            "text/plain": [
              "<keras.callbacks.History at 0x7f7404105e10>"
            ]
          },
          "metadata": {
            "tags": []
          },
          "execution_count": 15
        }
      ]
    },
    {
      "cell_type": "code",
      "metadata": {
        "id": "pvbDoExcZe5C",
        "colab_type": "code",
        "outputId": "0a522007-0a26-40bb-f362-5f88566f6fd3",
        "colab": {
          "base_uri": "https://localhost:8080/",
          "height": 338
        }
      },
      "source": [
        "trainPredict = model.predict(X_train)\n",
        "testPredict=model.predict(X_test)\n",
        "\n",
        "trainPredictPlot = np.empty_like(data)\n",
        "trainPredictPlot[:, :]=np.nan\n",
        "trainPredictPlot[step_size:len(trainPredict)+step_size, :]=trainPredict\n",
        "\n",
        "testPredictPlot = np.empty_like(data)\n",
        "testPredictPlot[:, :]=np.nan\n",
        "testPredictPlot[len(trainPredict)+(step_size*2)+1 : len(data)-1, :]=testPredict\n",
        "\n",
        "plt.figure(figsize=(15,5))\n",
        "plt.plot(data)\n",
        "plt.plot(trainPredictPlot)\n",
        "plt.plot(testPredictPlot)\n",
        "plt.show"
      ],
      "execution_count": 18,
      "outputs": [
        {
          "output_type": "execute_result",
          "data": {
            "text/plain": [
              "<function matplotlib.pyplot.show>"
            ]
          },
          "metadata": {
            "tags": []
          },
          "execution_count": 18
        },
        {
          "output_type": "display_data",
          "data": {
            "image/png": "[encoded data removed]",
            "text/plain": [
              "<Figure size 1080x360 with 1 Axes>"
            ]
          },
          "metadata": {
            "tags": []
          }
        }
      ]
    }
  ]
}